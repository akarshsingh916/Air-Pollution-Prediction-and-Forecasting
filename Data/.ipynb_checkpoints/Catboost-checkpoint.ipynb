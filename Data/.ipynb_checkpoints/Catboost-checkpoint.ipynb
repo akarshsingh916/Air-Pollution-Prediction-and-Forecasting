{
 "cells": [
  {
   "cell_type": "code",
   "execution_count": 3,
   "metadata": {},
   "outputs": [],
   "source": [
    "import numpy as np\n",
    "from catboost import Pool, CatBoostRegressor\n",
    "import pandas as pd\n",
    "import numpy as np\n",
    "from sklearn.model_selection import train_test_split"
   ]
  },
  {
   "cell_type": "code",
   "execution_count": 5,
   "metadata": {},
   "outputs": [],
   "source": [
    "air=pd.read_csv(\"data.csv\")"
   ]
  },
  {
   "cell_type": "code",
   "execution_count": 6,
   "metadata": {},
   "outputs": [
    {
     "name": "stdout",
     "output_type": "stream",
     "text": [
      "Requirement already satisfied: sklearn in c:\\python38\\lib\\site-packages (0.0)\n",
      "Requirement already satisfied: scikit-learn in c:\\python38\\lib\\site-packages (from sklearn) (0.22.2.post1)\n",
      "Requirement already satisfied: scipy>=0.17.0 in c:\\python38\\lib\\site-packages (from scikit-learn->sklearn) (1.4.1)\n",
      "Requirement already satisfied: numpy>=1.11.0 in c:\\python38\\lib\\site-packages (from scikit-learn->sklearn) (1.18.1)\n",
      "Requirement already satisfied: joblib>=0.11 in c:\\python38\\lib\\site-packages (from scikit-learn->sklearn) (0.14.1)\n",
      "Note: you may need to restart the kernel to use updated packages.\n"
     ]
    },
    {
     "name": "stderr",
     "output_type": "stream",
     "text": [
      "WARNING: You are using pip version 20.0.2; however, version 20.1 is available.\n",
      "You should consider upgrading via the 'c:\\python38\\python.exe -m pip install --upgrade pip' command.\n"
     ]
    }
   ],
   "source": []
  },
  {
   "cell_type": "code",
   "execution_count": 8,
   "metadata": {},
   "outputs": [
    {
     "data": {
      "text/html": [
       "<div>\n",
       "<style scoped>\n",
       "    .dataframe tbody tr th:only-of-type {\n",
       "        vertical-align: middle;\n",
       "    }\n",
       "\n",
       "    .dataframe tbody tr th {\n",
       "        vertical-align: top;\n",
       "    }\n",
       "\n",
       "    .dataframe thead th {\n",
       "        text-align: right;\n",
       "    }\n",
       "</style>\n",
       "<table border=\"1\" class=\"dataframe\">\n",
       "  <thead>\n",
       "    <tr style=\"text-align: right;\">\n",
       "      <th></th>\n",
       "      <th>Temperature</th>\n",
       "      <th>Wind.Speed..km.h.</th>\n",
       "      <th>Pressure</th>\n",
       "      <th>no2</th>\n",
       "      <th>Rainfall</th>\n",
       "      <th>PM10</th>\n",
       "      <th>AQI</th>\n",
       "      <th>PM25</th>\n",
       "    </tr>\n",
       "  </thead>\n",
       "  <tbody>\n",
       "    <tr>\n",
       "      <th>0</th>\n",
       "      <td>14.033333</td>\n",
       "      <td>14.1197</td>\n",
       "      <td>1015.13</td>\n",
       "      <td>17.4</td>\n",
       "      <td>56.8</td>\n",
       "      <td>87</td>\n",
       "      <td>168</td>\n",
       "      <td>89.1</td>\n",
       "    </tr>\n",
       "    <tr>\n",
       "      <th>1</th>\n",
       "      <td>15.055556</td>\n",
       "      <td>14.2646</td>\n",
       "      <td>1015.63</td>\n",
       "      <td>7.0</td>\n",
       "      <td>56.8</td>\n",
       "      <td>122</td>\n",
       "      <td>177</td>\n",
       "      <td>105.5</td>\n",
       "    </tr>\n",
       "    <tr>\n",
       "      <th>2</th>\n",
       "      <td>15.916662</td>\n",
       "      <td>3.9284</td>\n",
       "      <td>1015.94</td>\n",
       "      <td>28.5</td>\n",
       "      <td>56.8</td>\n",
       "      <td>95</td>\n",
       "      <td>174</td>\n",
       "      <td>100.2</td>\n",
       "    </tr>\n",
       "    <tr>\n",
       "      <th>3</th>\n",
       "      <td>16.094444</td>\n",
       "      <td>14.1036</td>\n",
       "      <td>1016.41</td>\n",
       "      <td>14.7</td>\n",
       "      <td>56.8</td>\n",
       "      <td>79</td>\n",
       "      <td>169</td>\n",
       "      <td>89.6</td>\n",
       "    </tr>\n",
       "    <tr>\n",
       "      <th>4</th>\n",
       "      <td>16.094444</td>\n",
       "      <td>11.0446</td>\n",
       "      <td>1016.51</td>\n",
       "      <td>7.5</td>\n",
       "      <td>56.8</td>\n",
       "      <td>63</td>\n",
       "      <td>162</td>\n",
       "      <td>76.3</td>\n",
       "    </tr>\n",
       "    <tr>\n",
       "      <th>...</th>\n",
       "      <td>...</td>\n",
       "      <td>...</td>\n",
       "      <td>...</td>\n",
       "      <td>...</td>\n",
       "      <td>...</td>\n",
       "      <td>...</td>\n",
       "      <td>...</td>\n",
       "      <td>...</td>\n",
       "    </tr>\n",
       "    <tr>\n",
       "      <th>7283</th>\n",
       "      <td>5.105556</td>\n",
       "      <td>13.1054</td>\n",
       "      <td>1021.20</td>\n",
       "      <td>15.2</td>\n",
       "      <td>58.1</td>\n",
       "      <td>59</td>\n",
       "      <td>141</td>\n",
       "      <td>51.9</td>\n",
       "    </tr>\n",
       "    <tr>\n",
       "      <th>7284</th>\n",
       "      <td>4.450000</td>\n",
       "      <td>15.1984</td>\n",
       "      <td>1020.64</td>\n",
       "      <td>15.0</td>\n",
       "      <td>56.8</td>\n",
       "      <td>51</td>\n",
       "      <td>139</td>\n",
       "      <td>51.0</td>\n",
       "    </tr>\n",
       "    <tr>\n",
       "      <th>7285</th>\n",
       "      <td>3.888889</td>\n",
       "      <td>11.1090</td>\n",
       "      <td>1019.83</td>\n",
       "      <td>15.0</td>\n",
       "      <td>62.0</td>\n",
       "      <td>50</td>\n",
       "      <td>138</td>\n",
       "      <td>50.7</td>\n",
       "    </tr>\n",
       "    <tr>\n",
       "      <th>7286</th>\n",
       "      <td>3.438889</td>\n",
       "      <td>8.4364</td>\n",
       "      <td>1019.74</td>\n",
       "      <td>15.2</td>\n",
       "      <td>60.4</td>\n",
       "      <td>48</td>\n",
       "      <td>136</td>\n",
       "      <td>49.8</td>\n",
       "    </tr>\n",
       "    <tr>\n",
       "      <th>7287</th>\n",
       "      <td>3.077778</td>\n",
       "      <td>11.3988</td>\n",
       "      <td>1020.01</td>\n",
       "      <td>15.0</td>\n",
       "      <td>59.0</td>\n",
       "      <td>44</td>\n",
       "      <td>132</td>\n",
       "      <td>48.0</td>\n",
       "    </tr>\n",
       "  </tbody>\n",
       "</table>\n",
       "<p>7288 rows × 8 columns</p>\n",
       "</div>"
      ],
      "text/plain": [
       "      Temperature  Wind.Speed..km.h.  Pressure   no2  Rainfall  PM10  AQI  \\\n",
       "0       14.033333            14.1197   1015.13  17.4      56.8    87  168   \n",
       "1       15.055556            14.2646   1015.63   7.0      56.8   122  177   \n",
       "2       15.916662             3.9284   1015.94  28.5      56.8    95  174   \n",
       "3       16.094444            14.1036   1016.41  14.7      56.8    79  169   \n",
       "4       16.094444            11.0446   1016.51   7.5      56.8    63  162   \n",
       "...           ...                ...       ...   ...       ...   ...  ...   \n",
       "7283     5.105556            13.1054   1021.20  15.2      58.1    59  141   \n",
       "7284     4.450000            15.1984   1020.64  15.0      56.8    51  139   \n",
       "7285     3.888889            11.1090   1019.83  15.0      62.0    50  138   \n",
       "7286     3.438889             8.4364   1019.74  15.2      60.4    48  136   \n",
       "7287     3.077778            11.3988   1020.01  15.0      59.0    44  132   \n",
       "\n",
       "       PM25  \n",
       "0      89.1  \n",
       "1     105.5  \n",
       "2     100.2  \n",
       "3      89.6  \n",
       "4      76.3  \n",
       "...     ...  \n",
       "7283   51.9  \n",
       "7284   51.0  \n",
       "7285   50.7  \n",
       "7286   49.8  \n",
       "7287   48.0  \n",
       "\n",
       "[7288 rows x 8 columns]"
      ]
     },
     "execution_count": 8,
     "metadata": {},
     "output_type": "execute_result"
    }
   ],
   "source": [
    "air"
   ]
  },
  {
   "cell_type": "code",
   "execution_count": 11,
   "metadata": {},
   "outputs": [],
   "source": [
    "X=air[[\"Temperature\",\"Wind.Speed..km.h.\",\"Pressure\",\"no2\",\"Rainfall\",\"PM10\",\"AQI\"]]\n",
    "y=air[\"PM25\"]"
   ]
  },
  {
   "cell_type": "code",
   "execution_count": 14,
   "metadata": {},
   "outputs": [
    {
     "data": {
      "text/plain": [
       "(7288,)"
      ]
     },
     "execution_count": 14,
     "metadata": {},
     "output_type": "execute_result"
    }
   ],
   "source": [
    "y.shape"
   ]
  },
  {
   "cell_type": "code",
   "execution_count": null,
   "metadata": {},
   "outputs": [],
   "source": [
    "X_train, X_test, y_train, y_test = train_test_split(X, y, test_size=0.2)"
   ]
  }
 ],
 "metadata": {
  "kernelspec": {
   "display_name": "Python 3",
   "language": "python",
   "name": "python3"
  },
  "language_info": {
   "codemirror_mode": {
    "name": "ipython",
    "version": 3
   },
   "file_extension": ".py",
   "mimetype": "text/x-python",
   "name": "python",
   "nbconvert_exporter": "python",
   "pygments_lexer": "ipython3",
   "version": "3.8.1"
  }
 },
 "nbformat": 4,
 "nbformat_minor": 4
}
